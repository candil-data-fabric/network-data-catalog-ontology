{
 "cells": [
  {
   "cell_type": "code",
   "execution_count": 118,
   "id": "2137093c-2a32-48bf-8212-7c2d61b19d51",
   "metadata": {},
   "outputs": [],
   "source": [
    "import rdflib"
   ]
  },
  {
   "cell_type": "markdown",
   "id": "279bcc58",
   "metadata": {},
   "source": [
    "Load ontology and example"
   ]
  },
  {
   "cell_type": "code",
   "execution_count": null,
   "id": "3cf4cb89",
   "metadata": {},
   "outputs": [],
   "source": []
  },
  {
   "cell_type": "code",
   "execution_count": 119,
   "id": "8b5a295c-5097-4272-a32e-50f15bbbc714",
   "metadata": {},
   "outputs": [
    {
     "name": "stdout",
     "output_type": "stream",
     "text": [
      "618\n"
     ]
    }
   ],
   "source": [
    "g = rdflib.Graph()\n",
    "g.parse(\"../ontology/yang-library.ttl\", format='turtle')\n",
    "g.parse(\"../examples/yang-server.ttl\", format='turtle')\n",
    "g.parse(\"../examples/example.ttl\", format='turtle')\n",
    "print(len(g))"
   ]
  },
  {
   "cell_type": "markdown",
   "id": "88e0a7f7",
   "metadata": {},
   "source": [
    "Load prefixes"
   ]
  },
  {
   "cell_type": "code",
   "execution_count": null,
   "id": "5b0f11f8",
   "metadata": {},
   "outputs": [],
   "source": [
    "prefixes = \"\"\"\n",
    "PREFIX ndc-lb: <https://w3id.org/yang/library#>\n",
    "PREFIX ndc-sr: <https://w3id.org/yang/server#>\n",
    "PREFIX dcterms: <http://purl.org/dc/terms/>\n",
    "\"\"\""
   ]
  },
  {
   "cell_type": "markdown",
   "id": "363793b0",
   "metadata": {},
   "source": [
    "## CQ1: What is the identifier of a YANG Library?"
   ]
  },
  {
   "cell_type": "code",
   "execution_count": null,
   "id": "8c93ec42-557a-41ab-88b5-72ff353c19e0",
   "metadata": {},
   "outputs": [
    {
     "name": "stdout",
     "output_type": "stream",
     "text": [
      "YANG Library ID: 1k19sk2x1k19sk3yk4\n"
     ]
    }
   ],
   "source": [
    "q_res = g.query(prefixes + \"\"\"\n",
    "    SELECT ?identifier\n",
    "    WHERE {\n",
    "        ?library a ndc-lb:YangLibrary ;\n",
    "            ndc-lb:yangLibraryId ?identifier .\n",
    "    }\n",
    "\"\"\")\n",
    "\n",
    "for row in q_res:\n",
    "    print(f\"YANG Library ID: {row.identifier}\")"
   ]
  },
  {
   "cell_type": "markdown",
   "id": "c8dd4ee1",
   "metadata": {},
   "source": [
    "## CQ2: Which are the module sets included by a YANG library?"
   ]
  },
  {
   "cell_type": "code",
   "execution_count": null,
   "id": "64c5b9ea",
   "metadata": {},
   "outputs": [
    {
     "name": "stdout",
     "output_type": "stream",
     "text": [
      "Module Set: https://network-data-catalog.org/NetconfServer/srl/ModuleSet/nokia\n"
     ]
    }
   ],
   "source": [
    "q_res = g.query(prefixes + \"\"\"\n",
    "    SELECT ?moduleSet\n",
    "    WHERE {\n",
    "        ?library a ndc-lb:YangLibrary ;\n",
    "            ndc-lb:moduleSet ?moduleSet .\n",
    "    }\n",
    "\"\"\")\n",
    "\n",
    "for row in q_res:\n",
    "    print(f\"Module Set: {row.moduleSet}\")"
   ]
  },
  {
   "cell_type": "markdown",
   "id": "01b3e22a",
   "metadata": {},
   "source": [
    "## CQ3: Which are the schemas included by a YANG library?"
   ]
  },
  {
   "cell_type": "code",
   "execution_count": null,
   "id": "6cc63f2c",
   "metadata": {},
   "outputs": [
    {
     "name": "stdout",
     "output_type": "stream",
     "text": [
      "Schema: https://network-data-catalog.org/NetconfServer/srl/Schema/nokia\n"
     ]
    }
   ],
   "source": [
    "q_res = g.query(prefixes + \"\"\"\n",
    "    SELECT ?schema\n",
    "    WHERE {\n",
    "        ?library a ndc-lb:YangLibrary ;\n",
    "            ndc-lb:schema ?schema\n",
    "    }\n",
    "\"\"\")\n",
    "\n",
    "for row in q_res:\n",
    "    print(f\"Schema: {row.schema}\")"
   ]
  },
  {
   "cell_type": "markdown",
   "id": "823c2aaa",
   "metadata": {},
   "source": [
    "## CQ4: Which schema is implemented by a datastore?"
   ]
  },
  {
   "cell_type": "code",
   "execution_count": null,
   "id": "66a1c532",
   "metadata": {},
   "outputs": [
    {
     "name": "stdout",
     "output_type": "stream",
     "text": [
      "Datastore: https://network-data-catalog.org/NetconfServer/srl/Datastore/candidate Schema: https://network-data-catalog.org/NetconfServer/srl/Schema/nokia\n",
      "Datastore: https://network-data-catalog.org/NetconfServer/srl/Datastore/intended Schema: https://network-data-catalog.org/NetconfServer/srl/Schema/nokia\n",
      "Datastore: https://network-data-catalog.org/NetconfServer/srl/Datastore/running Schema: https://network-data-catalog.org/NetconfServer/srl/Schema/nokia\n",
      "Datastore: https://network-data-catalog.org/NetconfServer/srl/Datastore/startup Schema: https://network-data-catalog.org/NetconfServer/srl/Schema/nokia\n",
      "Datastore: https://network-data-catalog.org/NetconfServer/srl/Datastore/operational Schema: https://network-data-catalog.org/NetconfServer/srl/Schema/nokia\n"
     ]
    }
   ],
   "source": [
    "q_res = g.query(prefixes + \"\"\"\n",
    "    SELECT ?schema ?datastore\n",
    "    WHERE {\n",
    "        ?library a ndc-lb:YangLibrary ;\n",
    "            ndc-lb:schema ?schema .\n",
    "        ?datastore rdf:type/rdfs:subClassOf* ndc-sr:Datastore ;\n",
    "            ndc-lb:implementsSchema ?schema .\n",
    "    }\n",
    "\"\"\")\n",
    "\n",
    "for row in q_res:\n",
    "    print(f\"Datastore: {row.datastore} Schema: {row.schema}\")"
   ]
  },
  {
   "cell_type": "markdown",
   "id": "7b3ca02b",
   "metadata": {},
   "source": [
    "## CQ5: Which module sets are included by a schema?"
   ]
  },
  {
   "cell_type": "code",
   "execution_count": null,
   "id": "146a5fca",
   "metadata": {},
   "outputs": [
    {
     "name": "stdout",
     "output_type": "stream",
     "text": [
      "Schema: https://network-data-catalog.org/NetconfServer/srl/Schema/nokia Module Set: https://network-data-catalog.org/NetconfServer/srl/ModuleSet/nokia\n"
     ]
    }
   ],
   "source": [
    "q_res = g.query(prefixes + \"\"\"\n",
    "    SELECT ?moduleSet ?schema\n",
    "    WHERE {\n",
    "        ?library a ndc-lb:YangLibrary ;\n",
    "            ndc-lb:schema ?schema ;\n",
    "            ndc-lb:moduleSet ?moduleSet .\n",
    "        ?schema ndc-lb:containsModuleSet ?moduleSet .\n",
    "    }\n",
    "\"\"\")\n",
    "\n",
    "for row in q_res:\n",
    "    print(f\"Schema: {row.schema} Module Set: {row.moduleSet}\")"
   ]
  },
  {
   "cell_type": "markdown",
   "id": "d6db619f",
   "metadata": {},
   "source": [
    "## CQ6: What is the identifier of a schema?"
   ]
  },
  {
   "cell_type": "code",
   "execution_count": null,
   "id": "9c4514db",
   "metadata": {},
   "outputs": [
    {
     "name": "stdout",
     "output_type": "stream",
     "text": [
      "Schema Id: nokia\n"
     ]
    }
   ],
   "source": [
    "q_res = g.query(prefixes + \"\"\"\n",
    "    SELECT ?id\n",
    "    WHERE {\n",
    "        ?library a ndc-lb:YangLibrary ;\n",
    "            ndc-lb:schema ?schema .\n",
    "        ?schema ndc-lb:schemaId ?id\n",
    "    }\n",
    "\"\"\")\n",
    "\n",
    "for row in q_res:\n",
    "    print(f\"Schema Id: {row.id}\")"
   ]
  },
  {
   "cell_type": "markdown",
   "id": "b3f77ab4",
   "metadata": {},
   "source": [
    "## CQ7: What is the identifier of a module set?"
   ]
  },
  {
   "cell_type": "code",
   "execution_count": null,
   "id": "7d7b1cfc",
   "metadata": {},
   "outputs": [
    {
     "name": "stdout",
     "output_type": "stream",
     "text": [
      "Module Set Id: nokia\n"
     ]
    }
   ],
   "source": [
    "q_res = g.query(prefixes + \"\"\"\n",
    "    SELECT ?id\n",
    "    WHERE {\n",
    "        ?library a ndc-lb:YangLibrary ;\n",
    "            ndc-lb:moduleSet ?moduleSet .\n",
    "        ?moduleSet ndc-lb:moduleSetId ?id\n",
    "    }\n",
    "\"\"\")\n",
    "\n",
    "for row in q_res:\n",
    "    print(f\"Module Set Id: {row.id}\")"
   ]
  },
  {
   "cell_type": "markdown",
   "id": "605dc8a6",
   "metadata": {},
   "source": [
    "## CQ8: Which YANG modules are implemented by a module set?"
   ]
  },
  {
   "cell_type": "code",
   "execution_count": null,
   "id": "775e5f75",
   "metadata": {},
   "outputs": [
    {
     "name": "stdout",
     "output_type": "stream",
     "text": [
      "Implemented Module: https://network-data-catalog.org/Module/openconfig-interfaces/2023-11-06\n",
      "Implemented Module: https://network-data-catalog.org/Module/openconfig-srl-deviations/2024-10-31\n"
     ]
    }
   ],
   "source": [
    "q_res = g.query(prefixes + \"\"\"\n",
    "    SELECT ?implementedModule ?importedModule\n",
    "    WHERE {\n",
    "        ?library a ndc-lb:YangLibrary ;\n",
    "            ndc-lb:moduleSet ?moduleSet .\n",
    "        ?moduleSet ndc-lb:moduleImplementation ?moduleImplementation .\n",
    "        ?moduleImplementation ndc-lb:implementedModule ?implementedModule .\n",
    "    }\n",
    "\"\"\")\n",
    "\n",
    "for row in q_res:\n",
    "    print(f\"Implemented Module: {row.implementedModule}\")"
   ]
  },
  {
   "cell_type": "markdown",
   "id": "12864105",
   "metadata": {},
   "source": [
    "## CQ9: What is the name, revision date and namespace of a module?"
   ]
  },
  {
   "cell_type": "code",
   "execution_count": null,
   "id": "ab2d2d1c",
   "metadata": {},
   "outputs": [
    {
     "name": "stdout",
     "output_type": "stream",
     "text": [
      "Name: iana-if-type Revision Date: 2014-05-08 Namespace: urn:ietf:params:xml:ns:yang:iana-if-type\n",
      "Name: openconfig-aft Revision Date: 2023-09-26 Namespace: http://openconfig.net/yang/aft\n",
      "Name: openconfig-interfaces Revision Date: 2023-11-06 Namespace: http://openconfig.net/yang/interfaces\n",
      "Name: openconfig-srl-deviations Revision Date: 2024-10-31 Namespace: urn:nokia.com:srlinux:openconfig:openconfig-srl-deviations\n"
     ]
    }
   ],
   "source": [
    "q_res = g.query(prefixes + \"\"\"\n",
    "    SELECT ?name ?date ?namespace\n",
    "    WHERE {\n",
    "        ?module a ndc-lb:Module ;\n",
    "            ndc-lb:moduleName ?name ;\n",
    "            ndc-lb:revisionDate ?date ;\n",
    "            ndc-lb:namespace ?namespace .\n",
    "    }\n",
    "\"\"\")\n",
    "\n",
    "for row in q_res:\n",
    "    print(f\"Name: {row.name} Revision Date: {row.date} Namespace: {row.namespace}\")"
   ]
  },
  {
   "cell_type": "markdown",
   "id": "419d8a20",
   "metadata": {},
   "source": [
    "## CQ10: What is the URL where a YANG module is available?"
   ]
  },
  {
   "cell_type": "code",
   "execution_count": null,
   "id": "8a1aeead",
   "metadata": {},
   "outputs": [
    {
     "name": "stdout",
     "output_type": "stream",
     "text": [
      "Implemented Module: https://network-data-catalog.org/Module/openconfig-interfaces/2023-11-06 Location: file:///opt/srlinux/models/openconfig/interfaces/openconfig-interfaces.yang\n",
      "Implemented Module: https://network-data-catalog.org/Module/openconfig-srl-deviations/2024-10-31 Location: file:///opt/srlinux/deviations/openconfig/openconfig-srl-deviations.yang\n"
     ]
    }
   ],
   "source": [
    "q_res = g.query(prefixes + \"\"\"\n",
    "    SELECT ?implementedModule ?location\n",
    "    WHERE {\n",
    "        ?library a ndc-lb:YangLibrary ;\n",
    "            ndc-lb:moduleSet ?moduleSet .\n",
    "        ?moduleSet ndc-lb:moduleImplementation ?moduleImplementation .\n",
    "        ?moduleImplementation ndc-lb:implementedModule ?implementedModule ;\n",
    "            ndc-lb:location ?location .\n",
    "    }\n",
    "\"\"\")\n",
    "\n",
    "for row in q_res:\n",
    "    print(f\"Implemented Module: {row.implementedModule} Location: {row.location}\")"
   ]
  },
  {
   "cell_type": "markdown",
   "id": "68d1351b",
   "metadata": {},
   "source": [
    "## CQ11: Which YANG features are used by an implementation of a YANG module?"
   ]
  },
  {
   "cell_type": "code",
   "execution_count": null,
   "id": "8880ee51",
   "metadata": {},
   "outputs": [
    {
     "name": "stdout",
     "output_type": "stream",
     "text": [
      "Implemented Module: https://network-data-catalog.org/Module/openconfig-srl-deviations/2024-10-31 Feature: https://network-data-catalog.org/Module/openconfig-srl-deviations/2019-04-16/Feature/ipv4-unnumbered\n",
      "Implemented Module: https://network-data-catalog.org/Module/openconfig-srl-deviations/2024-10-31 Feature: https://network-data-catalog.org/Module/openconfig-srl-deviations/2019-04-16/Feature/interface-evpn-internal-tags\n"
     ]
    }
   ],
   "source": [
    "q_res = g.query(prefixes + \"\"\"\n",
    "    SELECT ?implementedModule ?feature\n",
    "    WHERE {\n",
    "        ?library a ndc-lb:YangLibrary ;\n",
    "            ndc-lb:moduleSet ?moduleSet .\n",
    "        ?moduleSet ndc-lb:moduleImplementation ?moduleImplementation .\n",
    "        ?moduleImplementation ndc-lb:implementedModule ?implementedModule ;\n",
    "            ndc-lb:usesFeature ?feature .\n",
    "    }\n",
    "\"\"\")\n",
    "\n",
    "for row in q_res:\n",
    "    print(f\"Implemented Module: {row.implementedModule} Feature: {row.feature}\")"
   ]
  },
  {
   "cell_type": "markdown",
   "id": "5456b4a6",
   "metadata": {},
   "source": [
    "## CQ12: Which YANG features are NETCONF capabilities?"
   ]
  },
  {
   "cell_type": "code",
   "execution_count": null,
   "id": "5a736e0f",
   "metadata": {},
   "outputs": [
    {
     "name": "stdout",
     "output_type": "stream",
     "text": [
      "Implemented Module: https://network-data-catalog.org/Module/openconfig-srl-deviations/2024-10-31 Feature: https://network-data-catalog.org/Module/openconfig-srl-deviations/2019-04-16/Feature/ipv4-unnumbered\n",
      "Implemented Module: https://network-data-catalog.org/Module/openconfig-srl-deviations/2024-10-31 Feature: https://network-data-catalog.org/Module/openconfig-srl-deviations/2019-04-16/Feature/interface-evpn-internal-tags\n"
     ]
    }
   ],
   "source": [
    "q_res = g.query(prefixes + \"\"\"\n",
    "    SELECT ?implementedModule ?feature\n",
    "    WHERE {\n",
    "        ?library a ndc-lb:YangLibrary ;\n",
    "            ndc-lb:moduleSet ?moduleSet .\n",
    "        ?moduleSet ndc-lb:moduleImplementation ?moduleImplementation .\n",
    "        ?moduleImplementation ndc-lb:implementedModule ?implementedModule ;\n",
    "            ndc-lb:usesFeature ?feature .\n",
    "    }\n",
    "\"\"\")\n",
    "\n",
    "for row in q_res:\n",
    "    print(f\"Implemented Module: {row.implementedModule} Feature: {row.feature}\")"
   ]
  },
  {
   "cell_type": "markdown",
   "id": "147a912f",
   "metadata": {},
   "source": [
    "## CQ13: Which YANG modules are imported by a module set?"
   ]
  },
  {
   "cell_type": "code",
   "execution_count": null,
   "id": "96a44844",
   "metadata": {},
   "outputs": [
    {
     "name": "stdout",
     "output_type": "stream",
     "text": [
      "Implemented Module: https://network-data-catalog.org/Module/openconfig-srl-deviations/2024-10-31 Feature: https://network-data-catalog.org/Module/openconfig-srl-deviations/2019-04-16/Feature/ipv4-unnumbered\n",
      "Implemented Module: https://network-data-catalog.org/Module/openconfig-srl-deviations/2024-10-31 Feature: https://network-data-catalog.org/Module/openconfig-srl-deviations/2019-04-16/Feature/interface-evpn-internal-tags\n"
     ]
    }
   ],
   "source": [
    "q_res = g.query(prefixes + \"\"\"\n",
    "    SELECT ?implementedModule ?feature\n",
    "    WHERE {\n",
    "        ?library a ndc-lb:YangLibrary ;\n",
    "            ndc-lb:moduleSet ?moduleSet .\n",
    "        ?moduleSet ndc-lb:moduleImplementation ?moduleImplementation .\n",
    "        ?moduleImplementation ndc-lb:implementedModule ?implementedModule ;\n",
    "            ndc-lb:usesFeature ?feature .\n",
    "    }\n",
    "\"\"\")\n",
    "\n",
    "for row in q_res:\n",
    "    print(f\"Implemented Module: {row.implementedModule} Feature: {row.feature}\")"
   ]
  },
  {
   "cell_type": "markdown",
   "id": "82a9a466",
   "metadata": {},
   "source": [
    "## CQ14: Which YANG module is deviated by another YANG module?"
   ]
  },
  {
   "cell_type": "code",
   "execution_count": null,
   "id": "595b9c19",
   "metadata": {},
   "outputs": [
    {
     "name": "stdout",
     "output_type": "stream",
     "text": [
      "Module: https://network-data-catalog.org/Module/openconfig-interfaces/2023-11-06 Deviated By Module: https://network-data-catalog.org/Module/openconfig-srl-deviations/2024-10-31\n"
     ]
    }
   ],
   "source": [
    "q_res = g.query(prefixes + \"\"\"\n",
    "    SELECT ?module ?deviatedModule\n",
    "    WHERE {\n",
    "        ?module a ndc-lb:Module ;\n",
    "            ndc-lb:deviatesModule ?deviatedModule .\n",
    "    }\n",
    "\"\"\")\n",
    "\n",
    "for row in q_res:\n",
    "    print(f\"Module: {row.deviatedModule} Deviated By Module: {row.module}\")"
   ]
  },
  {
   "cell_type": "markdown",
   "id": "56c8a4cc",
   "metadata": {},
   "source": [
    "## CQ15: Which YANG module is augmented by another YANG module?"
   ]
  },
  {
   "cell_type": "code",
   "execution_count": null,
   "id": "5432bcb3",
   "metadata": {},
   "outputs": [],
   "source": [
    "# q_res = g.query(prefixes + \"\"\"\n",
    "#     SELECT ?module ?augmentedModule\n",
    "#     WHERE {\n",
    "#         ?module a ndc-lb:Module ;\n",
    "#             ndc-lb:augmentssModule ?augmentedModule .\n",
    "#     }\n",
    "# \"\"\")\n",
    "\n",
    "# for row in q_res:\n",
    "#     print(f\"Module: {row.augmentedModule} Augmented By Module: {row.module}\")"
   ]
  },
  {
   "cell_type": "markdown",
   "id": "3357a547",
   "metadata": {},
   "source": [
    "## CQ16: Which YANG submodules are included by a YANG module?"
   ]
  },
  {
   "cell_type": "code",
   "execution_count": null,
   "id": "fd4e2a7a",
   "metadata": {},
   "outputs": [
    {
     "name": "stdout",
     "output_type": "stream",
     "text": [
      "Module: https://network-data-catalog.org/Module/openconfig-aft/2023-09-26 Includes Submodule: https://network-data-catalog.org/Module/openconfig-aft-common/2023-09-26\n",
      "Module: https://network-data-catalog.org/Module/openconfig-aft/2023-09-26 Includes Submodule: https://network-data-catalog.org/Module/openconfig-aft-ethernet/2023-09-26\n"
     ]
    }
   ],
   "source": [
    "q_res = g.query(prefixes + \"\"\"\n",
    "    SELECT ?module ?submodule\n",
    "    WHERE {\n",
    "        ?module a ndc-lb:Module ;\n",
    "            ndc-lb:includesSubmodule ?submodule .\n",
    "    }\n",
    "\"\"\")\n",
    "\n",
    "for row in q_res:\n",
    "    print(f\"Module: {row.module} Includes Submodule: {row.submodule}\")"
   ]
  }
 ],
 "metadata": {
  "kernelspec": {
   "display_name": ".venv",
   "language": "python",
   "name": "python3"
  },
  "language_info": {
   "codemirror_mode": {
    "name": "ipython",
    "version": 3
   },
   "file_extension": ".py",
   "mimetype": "text/x-python",
   "name": "python",
   "nbconvert_exporter": "python",
   "pygments_lexer": "ipython3",
   "version": "3.10.4"
  }
 },
 "nbformat": 4,
 "nbformat_minor": 5
}
