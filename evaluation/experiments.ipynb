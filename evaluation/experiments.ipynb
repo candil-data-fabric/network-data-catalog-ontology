{
 "cells": [
  {
   "cell_type": "code",
   "execution_count": 72,
   "id": "2137093c-2a32-48bf-8212-7c2d61b19d51",
   "metadata": {},
   "outputs": [],
   "source": [
    "import rdflib"
   ]
  },
  {
   "cell_type": "markdown",
   "id": "279bcc58",
   "metadata": {},
   "source": [
    "Load ontology and example"
   ]
  },
  {
   "cell_type": "code",
   "execution_count": 73,
   "id": "8b5a295c-5097-4272-a32e-50f15bbbc714",
   "metadata": {},
   "outputs": [
    {
     "name": "stdout",
     "output_type": "stream",
     "text": [
      "621\n"
     ]
    }
   ],
   "source": [
    "g = rdflib.Graph()\n",
    "g.parse(\"../ontology/yang-library.ttl\", format='turtle')\n",
    "g.parse(\"../examples/yang-server.ttl\", format='turtle')\n",
    "g.parse(\"../examples/example.ttl\", format='turtle')\n",
    "print(len(g))"
   ]
  },
  {
   "cell_type": "markdown",
   "id": "88e0a7f7",
   "metadata": {},
   "source": [
    "Load prefixes"
   ]
  },
  {
   "cell_type": "code",
   "execution_count": null,
   "id": "5b0f11f8",
   "metadata": {},
   "outputs": [],
   "source": [
    "prefixes = \"\"\"\n",
    "PREFIX ndc-lb: <https://w3id.org/yang/library#>\n",
    "PREFIX ndc-sr: <https://w3id.org/yang/server#>\n",
    "PREFIX dcterms: <http://purl.org/dc/terms/>\n",
    "\"\"\""
   ]
  },
  {
   "cell_type": "markdown",
   "id": "363793b0",
   "metadata": {},
   "source": [
    "## Step 1: Identifying available datastores"
   ]
  },
  {
   "cell_type": "code",
   "execution_count": null,
   "id": "8c93ec42-557a-41ab-88b5-72ff353c19e0",
   "metadata": {},
   "outputs": [
    {
     "name": "stdout",
     "output_type": "stream",
     "text": [
      "Datastore: https://network-data-catalog.org/NetconfServer/srl/Datastore/candidate Type: https://w3id.org/yang/server#CandidateDatastore\n",
      "Datastore: https://network-data-catalog.org/NetconfServer/srl/Datastore/intended Type: https://w3id.org/yang/server#IntendedDatastore\n",
      "Datastore: https://network-data-catalog.org/NetconfServer/srl/Datastore/running Type: https://w3id.org/yang/server#RunningDatastore\n",
      "Datastore: https://network-data-catalog.org/NetconfServer/srl/Datastore/startup Type: https://w3id.org/yang/server#StartupDatastore\n",
      "Datastore: https://network-data-catalog.org/NetconfServer/srl/Datastore/operational Type: https://w3id.org/yang/server#OperationalDatastore\n"
     ]
    }
   ],
   "source": [
    "q_res = g.query(prefixes + \"\"\"\n",
    "    SELECT ?datastore ?type\n",
    "    WHERE {\n",
    "        ?server rdf:type/rdfs:subClassOf* ndc-sr:YangServer .\n",
    "        ?datastore rdf:type/rdfs:subClassOf* ndc-sr:Datastore ;\n",
    "            rdf:type ?type .\n",
    "    }\n",
    "\"\"\")\n",
    "\n",
    "for row in q_res:\n",
    "    print(f\"Datastore: {row.datastore} Type: {row.type}\")"
   ]
  },
  {
   "cell_type": "markdown",
   "id": "61e909c7",
   "metadata": {},
   "source": [
    "## Step 2: Identifying implemented YANG modules for interface management"
   ]
  },
  {
   "cell_type": "code",
   "execution_count": null,
   "id": "69ea91cb",
   "metadata": {},
   "outputs": [
    {
     "name": "stdout",
     "output_type": "stream",
     "text": [
      "Module: https://network-data-catalog.org/Module/openconfig-interfaces/2023-11-06 Dependency: https://network-data-catalog.org/Module/openconfig-srl-deviations/2024-10-31\n"
     ]
    }
   ],
   "source": [
    "q_res = g.query(prefixes + \"\"\"\n",
    "    SELECT ?implementedModule ?dependency\n",
    "    WHERE {\n",
    "        ?moduleImplementation ndc-lb:implementedModule ?implementedModule .\n",
    "        ?moduleDependency rdfs:subPropertyOf+ ndc-lb:moduleDependency .\n",
    "        ?implementedModule ?moduleDependency ?dependency .\n",
    "    }\n",
    "\"\"\")\n",
    "\n",
    "for row in q_res:\n",
    "    print(f\"Module: {row.implementedModule} Dependency: {row.dependency}\")"
   ]
  },
  {
   "cell_type": "markdown",
   "id": "18c35b59",
   "metadata": {},
   "source": [
    "## Step : Identifying dependencies for imported YANG modules"
   ]
  },
  {
   "cell_type": "code",
   "execution_count": null,
   "id": "4430c50b",
   "metadata": {},
   "outputs": [
    {
     "name": "stdout",
     "output_type": "stream",
     "text": [
      "Module: https://network-data-catalog.org/Module/openconfig-aft/2023-09-26 Dependency: https://network-data-catalog.org/Module/openconfig-aft-common/2023-09-26\n",
      "Module: https://network-data-catalog.org/Module/openconfig-aft/2023-09-26 Dependency: https://network-data-catalog.org/Module/openconfig-aft-ethernet/2023-09-26\n"
     ]
    }
   ],
   "source": [
    "q_res = g.query(prefixes + \"\"\"\n",
    "    SELECT ?importedModule ?dependency\n",
    "    WHERE {\n",
    "        ?moduleImport ndc-lb:importedModule ?importedModule .\n",
    "        ?moduleDependency rdfs:subPropertyOf+ ndc-lb:moduleDependency .\n",
    "        ?importedModule ?moduleDependency ?dependency .\n",
    "    }\n",
    "\"\"\")\n",
    "\n",
    "for row in q_res:\n",
    "    print(f\"Module: {row.importedModule} Dependency: {row.dependency}\")"
   ]
  },
  {
   "cell_type": "markdown",
   "id": "7a001e20",
   "metadata": {},
   "source": [
    "## Step 4: Collecting MDT protocol information."
   ]
  },
  {
   "cell_type": "code",
   "execution_count": null,
   "id": "847bfd2c",
   "metadata": {},
   "outputs": [
    {
     "name": "stdout",
     "output_type": "stream",
     "text": [
      "Protocol: https://w3id.org/yang/server#NetconfServer Address: 172.100.100.11:830 Username: admin Password: NokiaSrl1!\n"
     ]
    }
   ],
   "source": [
    "q_res = g.query(prefixes + \"\"\"\n",
    "    SELECT ?type ?addressValue ?username ?password ?capabilities\n",
    "    WHERE {\n",
    "        ?server rdf:type/rdfs:subClassOf* ndc-sr:YangServer ;\n",
    "            rdf:type ?type ;\n",
    "            ndc-sr:socketAddress ?socketAddress ;\n",
    "            ndc-sr:serverAccount ?serverAccount .\n",
    "        ?socketAddress observable:addressValue ?addressValue .\n",
    "        ?serverAccount ndc-sr:username ?username ;\n",
    "            core:hasFacet ?accountAuthenticationFacet .\n",
    "        ?accountAuthenticationFacet observable:password ?password .\n",
    "    }\n",
    "\"\"\")\n",
    "\n",
    "for row in q_res:\n",
    "    print(f\"Protocol: {row.type} Address: {row.addressValue} Username: {row.username} Password: {row.password}\")"
   ]
  },
  {
   "cell_type": "markdown",
   "id": "3ea13f09",
   "metadata": {},
   "source": [
    "## Step 4: Collecting NETCONF capabilities"
   ]
  },
  {
   "cell_type": "code",
   "execution_count": null,
   "id": "ddd4adeb",
   "metadata": {},
   "outputs": [
    {
     "name": "stdout",
     "output_type": "stream",
     "text": [
      "Capability: https://w3id.org/yang/server#YangLibrary1.1Capability\n"
     ]
    }
   ],
   "source": [
    "q_res = g.query(prefixes + \"\"\"\n",
    "    SELECT ?capability\n",
    "    WHERE {\n",
    "        ?server rdf:type/rdfs:subClassOf* ndc-sr:NetconfServer ;\n",
    "            ndc-sr:capability ?capability ;\n",
    "    }\n",
    "    GROUP BY ?server\n",
    "\"\"\")\n",
    "\n",
    "for row in q_res:\n",
    "    print(f\"Capability: {row.capability}\")"
   ]
  }
 ],
 "metadata": {
  "kernelspec": {
   "display_name": ".venv",
   "language": "python",
   "name": "python3"
  },
  "language_info": {
   "codemirror_mode": {
    "name": "ipython",
    "version": 3
   },
   "file_extension": ".py",
   "mimetype": "text/x-python",
   "name": "python",
   "nbconvert_exporter": "python",
   "pygments_lexer": "ipython3",
   "version": "3.10.4"
  }
 },
 "nbformat": 4,
 "nbformat_minor": 5
}
