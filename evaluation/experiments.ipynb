{
 "cells": [
  {
   "cell_type": "code",
   "execution_count": 75,
   "id": "2137093c-2a32-48bf-8212-7c2d61b19d51",
   "metadata": {},
   "outputs": [],
   "source": [
    "import rdflib"
   ]
  },
  {
   "cell_type": "markdown",
   "id": "279bcc58",
   "metadata": {},
   "source": [
    "Load ontology and example"
   ]
  },
  {
   "cell_type": "code",
   "execution_count": 76,
   "id": "8b5a295c-5097-4272-a32e-50f15bbbc714",
   "metadata": {},
   "outputs": [
    {
     "name": "stdout",
     "output_type": "stream",
     "text": [
      "96438\n"
     ]
    }
   ],
   "source": [
    "g = rdflib.Graph()\n",
    "g.parse(\"../ontology/server.ttl\", format='turtle')\n",
    "g.parse(\"../ontology/library.ttl\", format='turtle')\n",
    "g.parse(\"../ontology/platform.ttl\", format='turtle')\n",
    "\n",
    "g.parse(\"../examples/server.ttl\", format='turtle')\n",
    "g.parse(\"../examples/library.ttl\", format='turtle')\n",
    "g.parse(\"../examples/platform.ttl\", format='turtle')\n",
    "g.parse(\"../examples/netconf-monit.ttl\", format='turtle')\n",
    "g.parse(\"../examples/catalog-ietf.ttl\", format='turtle')\n",
    "g.parse(\"../examples/catalog-oc.ttl\", format='turtle')\n",
    "print(len(g))"
   ]
  },
  {
   "cell_type": "markdown",
   "id": "88e0a7f7",
   "metadata": {},
   "source": [
    "Load prefixes"
   ]
  },
  {
   "cell_type": "code",
   "execution_count": 77,
   "id": "5b0f11f8",
   "metadata": {},
   "outputs": [],
   "source": [
    "prefixes = \"\"\"\n",
    "PREFIX ndc-lb: <https://w3id.org/network-data-catalog/library#>\n",
    "PREFIX ndc-pm: <https://w3id.org/network-data-catalog/platform#>\n",
    "PREFIX ndc-sr: <https://w3id.org/network-data-catalog/server#>\n",
    "PREFIX mod: <https://w3id.org/mod#>\n",
    "PREFIX owl: <http://www.w3.org/2002/07/owl#>\n",
    "PREFIX rdf: <http://www.w3.org/1999/02/22-rdf-syntax-ns#>\n",
    "PREFIX xml: <http://www.w3.org/XML/1998/namespace>\n",
    "PREFIX xsd: <http://www.w3.org/2001/XMLSchema#>\n",
    "PREFIX core: <https://ontology.unifiedcyberontology.org/uco/core/>\n",
    "PREFIX rdfs: <http://www.w3.org/2000/01/rdf-schema#>\n",
    "PREFIX vann: <http://purl.org/vocab/vann/>\n",
    "PREFIX schema: <http://schema.org/>\n",
    "PREFIX dcterms: <http://purl.org/dc/terms/>\n",
    "PREFIX observable: <https://ontology.unifiedcyberontology.org/uco/observable/>\n",
    "BASE <http://example.org/>\n",
    "\"\"\""
   ]
  },
  {
   "cell_type": "markdown",
   "id": "363793b0",
   "metadata": {},
   "source": [
    "## Step 1: Identifying available datastores"
   ]
  },
  {
   "cell_type": "code",
   "execution_count": 78,
   "id": "8c93ec42-557a-41ab-88b5-72ff353c19e0",
   "metadata": {},
   "outputs": [
    {
     "name": "stdout",
     "output_type": "stream",
     "text": [
      "Datastore: http://example.org/NetworkDevice/srl/Datastore/intended Type: https://w3id.org/network-data-catalog/server#IntendedDatastore\n",
      "Datastore: http://example.org/NetworkDevice/srl/Datastore/candidate Type: https://w3id.org/network-data-catalog/server#CandidateDatastore\n",
      "Datastore: http://example.org/NetworkDevice/srl/Datastore/startup Type: https://w3id.org/network-data-catalog/server#StartupDatastore\n",
      "Datastore: http://example.org/NetworkDevice/srl/Datastore/running Type: https://w3id.org/network-data-catalog/server#RunningDatastore\n",
      "Datastore: http://example.org/NetworkDevice/srl/Datastore/operational Type: https://w3id.org/network-data-catalog/server#OperationalDatastore\n"
     ]
    }
   ],
   "source": [
    "q_res = g.query(prefixes + \"\"\"\n",
    "    SELECT DISTINCT ?datastore ?type\n",
    "    WHERE {\n",
    "        ?device a ndc-sr:NetworkDevice ;\n",
    "            ndc-sr:deviceId \"srl\" ;\n",
    "            ndc-sr:implementsYangDatastore ?datastore .\n",
    "        ?datastore rdf:type ?type .\n",
    "    }\n",
    "\"\"\")\n",
    "\n",
    "for row in q_res:\n",
    "    print(f\"Datastore: {row.datastore} Type: {row.type}\")"
   ]
  },
  {
   "cell_type": "markdown",
   "id": "61e909c7",
   "metadata": {},
   "source": [
    "## Step 2: Identifying implemented YANG modules for interface management"
   ]
  },
  {
   "cell_type": "code",
   "execution_count": 79,
   "id": "69ea91cb",
   "metadata": {},
   "outputs": [
    {
     "name": "stdout",
     "output_type": "stream",
     "text": [
      "Module: openconfig-interfaces:2023-11-06 Description: Model for managing network interfaces and subinterfaces.  This\n",
      "module also defines convenience types / groupings for other\n",
      "models to create references to interfaces:\n",
      "\n",
      " base-interface-ref (type) -  reference to a base interface\n",
      " interface-ref (grouping) -  container for reference to a\n",
      "   interface + subinterface\n",
      " interface-ref-state (grouping) - container for read-only\n",
      "   (opstate) reference to interface + subinterface\n",
      "\n",
      "This model reuses data items defined in the IETF YANG model for\n",
      "interfaces described by RFC 7223 with an alternate structure\n",
      "(particularly for operational state data) and with\n",
      "additional configuration items.\n",
      "\n",
      "Portions of this code were derived from IETF RFC 7223.\n",
      "Please reproduce this note if possible.\n",
      "\n",
      "IETF code is subject to the following copyright and license:\n",
      "Copyright (c) IETF Trust and the persons identified as authors of\n",
      "the code.\n",
      "All rights reserved.\n",
      "\n",
      "Redistribution and use in source and binary forms, with or without\n",
      "modification, is permitted pursuant to, and subject to the license\n",
      "terms contained in, the Simplified BSD License set forth in\n",
      "Section 4.c of the IETF Trust's Legal Provisions Relating\n",
      "to IETF Documents (http://trustee.ietf.org/license-info).\n",
      "Module: openconfig-vlan:2023-02-07 Description: This module defines configuration and state variables for VLANs,\n",
      "in addition to VLAN parameters associated with interfaces\n",
      "Module: openconfig-system-controlplane:2023-03-03 Description: This module adds configuration and operational state relating to\n",
      "policies for traffic destined to the system's control-plane.\n",
      "Particularly, it allows for mechanisms to:\n",
      " - apply an ACL that forwards or drops traffic towards the control-plane.\n",
      " - classify traffic that is destined to the control-plane according to\n",
      "   a QoS classifier.\n",
      " - schedule traffic that has been forwarded towards the control-plane,\n",
      "   to allow for policies such as rate limits to be applied.\n",
      "The configured policies apply generically to all control-planes that\n",
      "exist within the system, and should be mapped to the internal interfaces\n",
      "via which packets are forwarded to control-plane modules.\n",
      "When a packet is received at an input interface - it is classified into a\n",
      "forwarding group which drains to a specific queue. If this input mapping\n",
      "is sufficient, the CPU-facing interface uses the specified scheduler\n",
      "to determine how to drain queues. If more granular remapping is required\n",
      "(e.g., to classify control-plane traffic more granularly), a user specifies\n",
      "an alternate classifier that is used to reclassify traffic into\n",
      "a new set of forwarding-groups (and hence queues) that can subsequently\n",
      "be scheduled by the specified scheduler.\n",
      "The specified control-plane ACL is applied to traffic received by the\n",
      "control-plane of the system.\n",
      "Module: openconfig-lacp:2023-12-11 Description: This module describes configuration and operational state\n",
      "data for Link Aggregation Control Protocol (LACP) for\n",
      "managing aggregate interfaces.   It works in conjunction with\n",
      "the OpenConfig interfaces and aggregate interfaces models.\n",
      "Module: openconfig-platform-transceiver:2023-08-30 Description: This module defines configuration and operational state data\n",
      "for transceivers (i.e., pluggable optics).  The module should be\n",
      "used in conjunction with the platform model where other\n",
      "physical entity data are represented.\n",
      "\n",
      "In the platform model, a component of type=TRANSCEIVER is\n",
      "expected to be a subcomponent of a PORT component.  This\n",
      "module defines a concrete schema for the associated data for\n",
      "components with type=TRANSCEIVER.\n",
      "\n",
      "A transceiver will always contain physical-channel(s), however\n",
      "when a line side optical-channel is present (i.e. ZR+ optics)\n",
      "the physical-channel will reference its optical-channel.\n",
      "In this case, the optical-channels components must be\n",
      "subcomponents of the transceiver. The relationship between the\n",
      "physical-channel and the optical-channel allows for multiple\n",
      "optical-channels to be associated with a transceiver in addition\n",
      "to ensuring certain leaves (i.e. output-power) are not duplicated\n",
      "in multiple components.\n",
      "\n",
      "If a transceiver contains a digital signal processor (DSP), such\n",
      "as with ZR+ optics, the modeling will utilize hierarchical\n",
      "components as follows:\n",
      "PORT --> TRANSCEIVER --> OPTICAL_CHANNEL(s)\n",
      "The signal will then traverse through a series of\n",
      "terminal-device/logical-channels as required. The first\n",
      "logical-channel connected to the OPTICAL_CHANNEL will utilize the\n",
      "assignment/optical-channel leaf to create the relationship. At the\n",
      "conclusion of the series of logical-channels, the logical-channel\n",
      "will be associated to its host / client side based on:\n",
      "* If the TRANSCEIVER is directly within a router or switch, then\n",
      " it will use the logical-channel ingress leaf to specify the\n",
      " interface it is associated with.\n",
      "* If the TRANSCEIVER is within a dedicated terminal (Layer 1)\n",
      " device, then it will use the logical-channel ingress leaf to\n",
      " specify a physical-channel within a TRANSCEIVER component\n",
      " (i.e. gray optic) that it is associated with.\n",
      "Module: openconfig-if-ethernet:2023-03-10 Description: Model for managing Ethernet interfaces -- augments the OpenConfig\n",
      "model for interface configuration and state.\n",
      "Module: openconfig-if-sdn-ext:2024-02-21 Description: This module provides extensions to the OpenConfig interfaces\n",
      "module for network elements that support external 'SDN' control\n",
      "of their interfaces.\n",
      "Module: openconfig-platform-healthz:2023-04-11 Description: This model defines health-related variables for components\n",
      "within the openconfig-platform model (which defines the\n",
      "the /components hierarchy). It is designed to be used in\n",
      "conjunction with the gNOI Healthz service (see\n",
      "https://github.com/openconfig/gnoi/blob/main/healthz/README.md).\n",
      "\n",
      "The health variables included in this model are streamed via\n",
      "telemetry interfaces, where gNOI.Healthz is used to retrieve\n",
      "further diagnostic and debugging informaton from a network\n",
      "device.\n",
      "Module: openconfig-if-ip:2024-03-13 Description: This model defines data for managing configuration and\n",
      "operational state on IP (IPv4 and IPv6) interfaces.\n",
      "\n",
      "This model reuses data items defined in the IETF YANG model for\n",
      "interfaces described by RFC 7277 with an alternate structure\n",
      "(particularly for operational state data) and with\n",
      "additional configuration items.\n",
      "\n",
      "Portions of this code were derived from IETF RFC 7277.\n",
      "Please reproduce this note if possible.\n",
      "\n",
      "IETF code is subject to the following copyright and license:\n",
      "Copyright (c) IETF Trust and the persons identified as authors of\n",
      "the code.\n",
      "All rights reserved.\n",
      "\n",
      "Redistribution and use in source and binary forms, with or without\n",
      "modification, is permitted pursuant to, and subject to the license\n",
      "terms contained in, the Simplified BSD License set forth in\n",
      "Section 4.c of the IETF Trust's Legal Provisions Relating\n",
      "to IETF Documents (http://trustee.ietf.org/license-info).\n",
      "Module: openconfig-if-aggregate:2022-06-28 Description: Model for managing aggregated (aka bundle, LAG) interfaces.\n"
     ]
    }
   ],
   "source": [
    "q_res = g.query(prefixes + \"\"\"\n",
    "    SELECT  ?moduleName ?revisionDate ?moduleDescription\n",
    "    WHERE {\n",
    "        <http://example.org/NetworkDevice/srl/Datastore/operational> ndc-lb:supportsDatastoreSchema ?schema .\n",
    "        ?schema ndc-lb:usesModuleSet ?moduleSet .\n",
    "        ?moduleSet ndc-lb:moduleImplementation ?moduleImplementation .\n",
    "        ?moduleImplementation ndc-lb:implementedModule ?implementedModule .\n",
    "        ?implementedModule ndc-lb:moduleName ?moduleName ;\n",
    "                           ndc-lb:revisionDate ?revisionDate ;\n",
    "                           ndc-lb:moduleDescription ?moduleDescription .\n",
    "        FILTER(CONTAINS(STR(?moduleDescription), \"interface\"))\n",
    "    }\n",
    "\"\"\")\n",
    "\n",
    "for row in q_res:\n",
    "    print(f\"Module: {row.moduleName}:{row.revisionDate} Description: {row.moduleDescription}\")"
   ]
  },
  {
   "cell_type": "markdown",
   "id": "18c35b59",
   "metadata": {},
   "source": [
    "## Step 3 : Identifying dependencies for target YANG module"
   ]
  },
  {
   "cell_type": "code",
   "execution_count": null,
   "id": "4430c50b",
   "metadata": {},
   "outputs": [
    {
     "ename": "ParseException",
     "evalue": "Expected SelectQuery, found '<'  (at char 838), (line:20, col:9)",
     "output_type": "error",
     "traceback": [
      "\u001b[0;31m---------------------------------------------------------------------------\u001b[0m",
      "\u001b[0;31mParseException\u001b[0m                            Traceback (most recent call last)",
      "Cell \u001b[0;32mIn[97], line 1\u001b[0m\n\u001b[0;32m----> 1\u001b[0m q_res \u001b[38;5;241m=\u001b[39m \u001b[43mg\u001b[49m\u001b[38;5;241;43m.\u001b[39;49m\u001b[43mquery\u001b[49m\u001b[43m(\u001b[49m\u001b[43mprefixes\u001b[49m\u001b[43m \u001b[49m\u001b[38;5;241;43m+\u001b[39;49m\u001b[43m \u001b[49m\u001b[38;5;124;43m\"\"\"\u001b[39;49m\n\u001b[1;32m      2\u001b[0m \u001b[38;5;124;43m    SELECT ?moduleName ?revisionDate\u001b[39;49m\n\u001b[1;32m      3\u001b[0m \u001b[38;5;124;43m    WHERE \u001b[39;49m\u001b[38;5;124;43m{\u001b[39;49m\n\u001b[1;32m      4\u001b[0m \u001b[38;5;124;43m        <http://example.org/Module/openconfig-interfaces/2023-11-06>\u001b[39;49m\n\u001b[1;32m      5\u001b[0m \u001b[38;5;124;43m            ?dependencyType+ ?dependency .\u001b[39;49m\n\u001b[1;32m      6\u001b[0m \u001b[38;5;124;43m        ?dependency ndc-lb:moduleName ?moduleName ;\u001b[39;49m\n\u001b[1;32m      7\u001b[0m \u001b[38;5;124;43m                    ndc-lb:revisionDate ?revisionDate ;\u001b[39;49m\n\u001b[1;32m      8\u001b[0m \u001b[38;5;124;43m    }\u001b[39;49m\n\u001b[1;32m      9\u001b[0m \u001b[38;5;124;43m\"\"\"\u001b[39;49m\u001b[43m)\u001b[49m\n\u001b[1;32m     11\u001b[0m \u001b[38;5;28;01mfor\u001b[39;00m row \u001b[38;5;129;01min\u001b[39;00m q_res:\n\u001b[1;32m     12\u001b[0m     \u001b[38;5;28mprint\u001b[39m(\u001b[38;5;124mf\u001b[39m\u001b[38;5;124m\"\u001b[39m\u001b[38;5;124mModule: \u001b[39m\u001b[38;5;132;01m{\u001b[39;00mrow\u001b[38;5;241m.\u001b[39mmoduleName\u001b[38;5;132;01m}\u001b[39;00m\u001b[38;5;124m:\u001b[39m\u001b[38;5;132;01m{\u001b[39;00mrow\u001b[38;5;241m.\u001b[39mrevisionDate\u001b[38;5;132;01m}\u001b[39;00m\u001b[38;5;124m \u001b[39m\u001b[38;5;124m\"\u001b[39m)\n",
      "File \u001b[0;32m~/github/candil-data-fabric/network-data-catalog-ontology/.venv/lib/python3.10/site-packages/rdflib/graph.py:1632\u001b[0m, in \u001b[0;36mGraph.query\u001b[0;34m(self, query_object, processor, result, initNs, initBindings, use_store_provided, **kwargs)\u001b[0m\n\u001b[1;32m   1629\u001b[0m     processor \u001b[38;5;241m=\u001b[39m plugin\u001b[38;5;241m.\u001b[39mget(processor, query\u001b[38;5;241m.\u001b[39mProcessor)(\u001b[38;5;28mself\u001b[39m)\n\u001b[1;32m   1631\u001b[0m \u001b[38;5;66;03m# type error: Argument 1 to \"Result\" has incompatible type \"Mapping[str, Any]\"; expected \"str\"\u001b[39;00m\n\u001b[0;32m-> 1632\u001b[0m \u001b[38;5;28;01mreturn\u001b[39;00m result(\u001b[43mprocessor\u001b[49m\u001b[38;5;241;43m.\u001b[39;49m\u001b[43mquery\u001b[49m\u001b[43m(\u001b[49m\u001b[43mquery_object\u001b[49m\u001b[43m,\u001b[49m\u001b[43m \u001b[49m\u001b[43minitBindings\u001b[49m\u001b[43m,\u001b[49m\u001b[43m \u001b[49m\u001b[43minitNs\u001b[49m\u001b[43m,\u001b[49m\u001b[43m \u001b[49m\u001b[38;5;241;43m*\u001b[39;49m\u001b[38;5;241;43m*\u001b[39;49m\u001b[43mkwargs\u001b[49m\u001b[43m)\u001b[49m)\n",
      "File \u001b[0;32m~/github/candil-data-fabric/network-data-catalog-ontology/.venv/lib/python3.10/site-packages/rdflib/plugins/sparql/processor.py:145\u001b[0m, in \u001b[0;36mSPARQLProcessor.query\u001b[0;34m(self, strOrQuery, initBindings, initNs, base, DEBUG)\u001b[0m\n\u001b[1;32m    125\u001b[0m \u001b[38;5;250m\u001b[39m\u001b[38;5;124;03m\"\"\"\u001b[39;00m\n\u001b[1;32m    126\u001b[0m \u001b[38;5;124;03mEvaluate a query with the given initial bindings, and initial\u001b[39;00m\n\u001b[1;32m    127\u001b[0m \u001b[38;5;124;03mnamespaces. The given base is used to resolve relative URIs in\u001b[39;00m\n\u001b[0;32m   (...)\u001b[0m\n\u001b[1;32m    141\u001b[0m \u001b[38;5;124;03m   documentation.\u001b[39;00m\n\u001b[1;32m    142\u001b[0m \u001b[38;5;124;03m\"\"\"\u001b[39;00m\n\u001b[1;32m    144\u001b[0m \u001b[38;5;28;01mif\u001b[39;00m \u001b[38;5;28misinstance\u001b[39m(strOrQuery, \u001b[38;5;28mstr\u001b[39m):\n\u001b[0;32m--> 145\u001b[0m     strOrQuery \u001b[38;5;241m=\u001b[39m translateQuery(\u001b[43mparseQuery\u001b[49m\u001b[43m(\u001b[49m\u001b[43mstrOrQuery\u001b[49m\u001b[43m)\u001b[49m, base, initNs)\n\u001b[1;32m    147\u001b[0m \u001b[38;5;28;01mreturn\u001b[39;00m evalQuery(\u001b[38;5;28mself\u001b[39m\u001b[38;5;241m.\u001b[39mgraph, strOrQuery, initBindings, base)\n",
      "File \u001b[0;32m~/github/candil-data-fabric/network-data-catalog-ontology/.venv/lib/python3.10/site-packages/rdflib/plugins/sparql/parser.py:1553\u001b[0m, in \u001b[0;36mparseQuery\u001b[0;34m(q)\u001b[0m\n\u001b[1;32m   1550\u001b[0m     q \u001b[38;5;241m=\u001b[39m q\u001b[38;5;241m.\u001b[39mdecode(\u001b[38;5;124m\"\u001b[39m\u001b[38;5;124mutf-8\u001b[39m\u001b[38;5;124m\"\u001b[39m)\n\u001b[1;32m   1552\u001b[0m q \u001b[38;5;241m=\u001b[39m expandUnicodeEscapes(q)\n\u001b[0;32m-> 1553\u001b[0m \u001b[38;5;28;01mreturn\u001b[39;00m \u001b[43mQuery\u001b[49m\u001b[38;5;241;43m.\u001b[39;49m\u001b[43mparseString\u001b[49m\u001b[43m(\u001b[49m\u001b[43mq\u001b[49m\u001b[43m,\u001b[49m\u001b[43m \u001b[49m\u001b[43mparseAll\u001b[49m\u001b[38;5;241;43m=\u001b[39;49m\u001b[38;5;28;43;01mTrue\u001b[39;49;00m\u001b[43m)\u001b[49m\n",
      "File \u001b[0;32m~/github/candil-data-fabric/network-data-catalog-ontology/.venv/lib/python3.10/site-packages/pyparsing/util.py:417\u001b[0m, in \u001b[0;36mreplaced_by_pep8.<locals>._inner\u001b[0;34m(self, *args, **kwargs)\u001b[0m\n\u001b[1;32m    412\u001b[0m \u001b[38;5;129m@wraps\u001b[39m(fn)\n\u001b[1;32m    413\u001b[0m \u001b[38;5;28;01mdef\u001b[39;00m\u001b[38;5;250m \u001b[39m\u001b[38;5;21m_inner\u001b[39m(\u001b[38;5;28mself\u001b[39m, \u001b[38;5;241m*\u001b[39margs, \u001b[38;5;241m*\u001b[39m\u001b[38;5;241m*\u001b[39mkwargs):\n\u001b[1;32m    414\u001b[0m     \u001b[38;5;66;03m# warnings.warn(\u001b[39;00m\n\u001b[1;32m    415\u001b[0m     \u001b[38;5;66;03m#     f\"Deprecated - use {fn.__name__}\", DeprecationWarning, stacklevel=2\u001b[39;00m\n\u001b[1;32m    416\u001b[0m     \u001b[38;5;66;03m# )\u001b[39;00m\n\u001b[0;32m--> 417\u001b[0m     \u001b[38;5;28;01mreturn\u001b[39;00m \u001b[43mfn\u001b[49m\u001b[43m(\u001b[49m\u001b[38;5;28;43mself\u001b[39;49m\u001b[43m,\u001b[49m\u001b[43m \u001b[49m\u001b[38;5;241;43m*\u001b[39;49m\u001b[43margs\u001b[49m\u001b[43m,\u001b[49m\u001b[43m \u001b[49m\u001b[38;5;241;43m*\u001b[39;49m\u001b[38;5;241;43m*\u001b[39;49m\u001b[43mkwargs\u001b[49m\u001b[43m)\u001b[49m\n",
      "File \u001b[0;32m~/github/candil-data-fabric/network-data-catalog-ontology/.venv/lib/python3.10/site-packages/pyparsing/core.py:1219\u001b[0m, in \u001b[0;36mParserElement.parse_string\u001b[0;34m(self, instring, parse_all, parseAll)\u001b[0m\n\u001b[1;32m   1216\u001b[0m         \u001b[38;5;28;01mraise\u001b[39;00m\n\u001b[1;32m   1218\u001b[0m     \u001b[38;5;66;03m# catch and re-raise exception from here, clearing out pyparsing internal stack trace\u001b[39;00m\n\u001b[0;32m-> 1219\u001b[0m     \u001b[38;5;28;01mraise\u001b[39;00m exc\u001b[38;5;241m.\u001b[39mwith_traceback(\u001b[38;5;28;01mNone\u001b[39;00m)\n\u001b[1;32m   1220\u001b[0m \u001b[38;5;28;01melse\u001b[39;00m:\n\u001b[1;32m   1221\u001b[0m     \u001b[38;5;28;01mreturn\u001b[39;00m tokens\n",
      "\u001b[0;31mParseException\u001b[0m: Expected SelectQuery, found '<'  (at char 838), (line:20, col:9)"
     ]
    }
   ],
   "source": [
    "q_res = g.query(prefixes + \"\"\"\n",
    "    SELECT ?moduleName ?revisionDate\n",
    "    WHERE {\n",
    "        <http://example.org/Module/openconfig-interfaces/2023-11-06>\n",
    "            ?dependencyType+ ?dependency .\n",
    "        ?dependency ndc-lb:moduleName ?moduleName ;\n",
    "                    ndc-lb:revisionDate ?revisionDate .\n",
    "    }\n",
    "\"\"\")\n",
    "\n",
    "for row in q_res:\n",
    "    print(f\"Module: {row.moduleName}:{row.revisionDate} \")"
   ]
  },
  {
   "cell_type": "markdown",
   "id": "7a001e20",
   "metadata": {},
   "source": [
    "## Step 4: Collecting MDT protocol information."
   ]
  },
  {
   "cell_type": "code",
   "execution_count": null,
   "id": "847bfd2c",
   "metadata": {},
   "outputs": [
    {
     "name": "stdout",
     "output_type": "stream",
     "text": [
      "Protocol: https://w3id.org/network-data-catalog/server#GnmiServer Address: 172.100.100.11:57400 Username: admin Password: NokiaSrl1!\n",
      "Protocol: https://w3id.org/network-data-catalog/server#NetconfServer Address: 172.100.100.11:830 Username: admin Password: NokiaSrl1!\n"
     ]
    }
   ],
   "source": [
    "q_res = g.query(prefixes + \"\"\"\n",
    "    SELECT ?type ?addressValue ?username ?password\n",
    "    WHERE {\n",
    "        ?server rdf:type/rdfs:subClassOf* ndc-sr:YangServer ;\n",
    "            rdf:type ?type ;\n",
    "            ndc-sr:socketAddress ?socketAddress ;\n",
    "            ndc-sr:serverAccount ?serverAccount .\n",
    "        ?socketAddress observable:addressValue ?addressValue .\n",
    "        ?serverAccount ndc-sr:username ?username ;\n",
    "            core:hasFacet ?accountAuthenticationFacet .\n",
    "        ?accountAuthenticationFacet observable:password ?password .\n",
    "    }\n",
    "\"\"\")\n",
    "\n",
    "for row in q_res:\n",
    "    print(f\"Protocol: {row.type} Address: {row.addressValue} Username: {row.username} Password: {row.password}\")"
   ]
  },
  {
   "cell_type": "markdown",
   "id": "3ea13f09",
   "metadata": {},
   "source": [
    "## Step 5: Collecting NETCONF capabilities"
   ]
  },
  {
   "cell_type": "code",
   "execution_count": 83,
   "id": "ddd4adeb",
   "metadata": {},
   "outputs": [
    {
     "name": "stdout",
     "output_type": "stream",
     "text": [
      "Capability: https://w3id.org/network-data-catalog/server#ConfirmedCommitCapability\n",
      "Capability: https://w3id.org/network-data-catalog/server#RollbackOnErrorCapability\n",
      "Capability: https://w3id.org/network-data-catalog/server#CandidateCapability\n",
      "Capability: https://w3id.org/network-data-catalog/server#StartupCapability\n",
      "Capability: https://w3id.org/network-data-catalog/server#YangLibrary11Capability\n",
      "Capability: https://w3id.org/network-data-catalog/server#UrlCapability\n",
      "Capability: https://w3id.org/network-data-catalog/server#ValidateCapability\n"
     ]
    }
   ],
   "source": [
    "q_res = g.query(prefixes + \"\"\"\n",
    "    SELECT ?netconfCapability\n",
    "    WHERE {\n",
    "        <http://example.org/NetworkDevice/srl/NetconfServer> rdf:type ndc-sr:NetconfServer ;\n",
    "            ndc-sr:netconfCapability ?netconfCapability .\n",
    "    }\n",
    "\"\"\")\n",
    "\n",
    "for row in q_res:\n",
    "    print(f\"Capability: {row.netconfCapability}\")"
   ]
  }
 ],
 "metadata": {
  "kernelspec": {
   "display_name": ".venv",
   "language": "python",
   "name": "python3"
  },
  "language_info": {
   "codemirror_mode": {
    "name": "ipython",
    "version": 3
   },
   "file_extension": ".py",
   "mimetype": "text/x-python",
   "name": "python",
   "nbconvert_exporter": "python",
   "pygments_lexer": "ipython3",
   "version": "3.10.4"
  }
 },
 "nbformat": 4,
 "nbformat_minor": 5
}
