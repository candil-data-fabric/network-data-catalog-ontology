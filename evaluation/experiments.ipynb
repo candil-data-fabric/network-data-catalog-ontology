{
 "cells": [
  {
   "cell_type": "code",
   "execution_count": 1,
   "id": "2137093c-2a32-48bf-8212-7c2d61b19d51",
   "metadata": {},
   "outputs": [],
   "source": [
    "import rdflib"
   ]
  },
  {
   "cell_type": "markdown",
   "id": "279bcc58",
   "metadata": {},
   "source": [
    "Load ontology and example"
   ]
  },
  {
   "cell_type": "code",
   "execution_count": 2,
   "id": "8b5a295c-5097-4272-a32e-50f15bbbc714",
   "metadata": {},
   "outputs": [
    {
     "name": "stdout",
     "output_type": "stream",
     "text": [
      "96438\n"
     ]
    }
   ],
   "source": [
    "g = rdflib.Graph()\n",
    "g.parse(\"../ontology/server.ttl\", format='turtle')\n",
    "g.parse(\"../ontology/library.ttl\", format='turtle')\n",
    "g.parse(\"../ontology/platform.ttl\", format='turtle')\n",
    "\n",
    "g.parse(\"../examples/server.ttl\", format='turtle')\n",
    "g.parse(\"../examples/library.ttl\", format='turtle')\n",
    "g.parse(\"../examples/platform.ttl\", format='turtle')\n",
    "g.parse(\"../examples/netconf-monit.ttl\", format='turtle')\n",
    "g.parse(\"../examples/catalog-ietf.ttl\", format='turtle')\n",
    "g.parse(\"../examples/catalog-oc.ttl\", format='turtle')\n",
    "print(len(g))"
   ]
  },
  {
   "cell_type": "markdown",
   "id": "88e0a7f7",
   "metadata": {},
   "source": [
    "Load prefixes"
   ]
  },
  {
   "cell_type": "code",
   "execution_count": 3,
   "id": "5b0f11f8",
   "metadata": {},
   "outputs": [],
   "source": [
    "prefixes = \"\"\"\n",
    "PREFIX ndc-lb: <https://w3id.org/network-data-catalog/library#>\n",
    "PREFIX ndc-pm: <https://w3id.org/network-data-catalog/platform#>\n",
    "PREFIX ndc-sr: <https://w3id.org/network-data-catalog/server#>\n",
    "PREFIX mod: <https://w3id.org/mod#>\n",
    "PREFIX owl: <http://www.w3.org/2002/07/owl#>\n",
    "PREFIX rdf: <http://www.w3.org/1999/02/22-rdf-syntax-ns#>\n",
    "PREFIX xml: <http://www.w3.org/XML/1998/namespace>\n",
    "PREFIX xsd: <http://www.w3.org/2001/XMLSchema#>\n",
    "PREFIX core: <https://ontology.unifiedcyberontology.org/uco/core/>\n",
    "PREFIX rdfs: <http://www.w3.org/2000/01/rdf-schema#>\n",
    "PREFIX vann: <http://purl.org/vocab/vann/>\n",
    "PREFIX schema: <http://schema.org/>\n",
    "PREFIX dcterms: <http://purl.org/dc/terms/>\n",
    "PREFIX observable: <https://ontology.unifiedcyberontology.org/uco/observable/>\n",
    "PREFIX ex: <http://example.org/>\n",
    "\"\"\""
   ]
  },
  {
   "cell_type": "markdown",
   "id": "363793b0",
   "metadata": {},
   "source": [
    "## Step 1: Identifying available datastores"
   ]
  },
  {
   "cell_type": "code",
   "execution_count": 4,
   "id": "8c93ec42-557a-41ab-88b5-72ff353c19e0",
   "metadata": {},
   "outputs": [
    {
     "name": "stdout",
     "output_type": "stream",
     "text": [
      "Datastore: http://example.org/NetworkDevice/srl/Datastore/intended Type: https://w3id.org/network-data-catalog/server#IntendedDatastore\n",
      "Datastore: http://example.org/NetworkDevice/srl/Datastore/candidate Type: https://w3id.org/network-data-catalog/server#CandidateDatastore\n",
      "Datastore: http://example.org/NetworkDevice/srl/Datastore/startup Type: https://w3id.org/network-data-catalog/server#StartupDatastore\n",
      "Datastore: http://example.org/NetworkDevice/srl/Datastore/running Type: https://w3id.org/network-data-catalog/server#RunningDatastore\n",
      "Datastore: http://example.org/NetworkDevice/srl/Datastore/operational Type: https://w3id.org/network-data-catalog/server#OperationalDatastore\n"
     ]
    }
   ],
   "source": [
    "q_res = g.query(prefixes + \"\"\"\n",
    "    SELECT DISTINCT ?datastore ?type\n",
    "    WHERE {\n",
    "        ?device a ndc-sr:NetworkDevice ;\n",
    "            ndc-sr:deviceId \"srl\" ;\n",
    "            ndc-sr:implementsYangDatastore ?datastore .\n",
    "        ?datastore rdf:type ?type .\n",
    "    }\n",
    "\"\"\")\n",
    "\n",
    "for row in q_res:\n",
    "    print(f\"Datastore: {row.datastore} Type: {row.type}\")"
   ]
  },
  {
   "cell_type": "markdown",
   "id": "61e909c7",
   "metadata": {},
   "source": [
    "## Step 2: Identifying implemented YANG modules for interface management"
   ]
  },
  {
   "cell_type": "code",
   "execution_count": 5,
   "id": "69ea91cb",
   "metadata": {},
   "outputs": [
    {
     "name": "stdout",
     "output_type": "stream",
     "text": [
      "Module: openconfig-interfaces:2023-11-06 Description: Model for managing network interfaces and subinterfaces.  This\n",
      "module also defines convenience types / groupings for other\n",
      "models to create references to interfaces:\n",
      "\n",
      " base-interface-ref (type) -  reference to a base interface\n",
      " interface-ref (grouping) -  container for reference to a\n",
      "   interface + subinterface\n",
      " interface-ref-state (grouping) - container for read-only\n",
      "   (opstate) reference to interface + subinterface\n",
      "\n",
      "This model reuses data items defined in the IETF YANG model for\n",
      "interfaces described by RFC 7223 with an alternate structure\n",
      "(particularly for operational state data) and with\n",
      "additional configuration items.\n",
      "\n",
      "Portions of this code were derived from IETF RFC 7223.\n",
      "Please reproduce this note if possible.\n",
      "\n",
      "IETF code is subject to the following copyright and license:\n",
      "Copyright (c) IETF Trust and the persons identified as authors of\n",
      "the code.\n",
      "All rights reserved.\n",
      "\n",
      "Redistribution and use in source and binary forms, with or without\n",
      "modification, is permitted pursuant to, and subject to the license\n",
      "terms contained in, the Simplified BSD License set forth in\n",
      "Section 4.c of the IETF Trust's Legal Provisions Relating\n",
      "to IETF Documents (http://trustee.ietf.org/license-info).\n",
      "Module: openconfig-vlan:2023-02-07 Description: This module defines configuration and state variables for VLANs,\n",
      "in addition to VLAN parameters associated with interfaces\n",
      "Module: openconfig-system-controlplane:2023-03-03 Description: This module adds configuration and operational state relating to\n",
      "policies for traffic destined to the system's control-plane.\n",
      "Particularly, it allows for mechanisms to:\n",
      " - apply an ACL that forwards or drops traffic towards the control-plane.\n",
      " - classify traffic that is destined to the control-plane according to\n",
      "   a QoS classifier.\n",
      " - schedule traffic that has been forwarded towards the control-plane,\n",
      "   to allow for policies such as rate limits to be applied.\n",
      "The configured policies apply generically to all control-planes that\n",
      "exist within the system, and should be mapped to the internal interfaces\n",
      "via which packets are forwarded to control-plane modules.\n",
      "When a packet is received at an input interface - it is classified into a\n",
      "forwarding group which drains to a specific queue. If this input mapping\n",
      "is sufficient, the CPU-facing interface uses the specified scheduler\n",
      "to determine how to drain queues. If more granular remapping is required\n",
      "(e.g., to classify control-plane traffic more granularly), a user specifies\n",
      "an alternate classifier that is used to reclassify traffic into\n",
      "a new set of forwarding-groups (and hence queues) that can subsequently\n",
      "be scheduled by the specified scheduler.\n",
      "The specified control-plane ACL is applied to traffic received by the\n",
      "control-plane of the system.\n",
      "Module: openconfig-lacp:2023-12-11 Description: This module describes configuration and operational state\n",
      "data for Link Aggregation Control Protocol (LACP) for\n",
      "managing aggregate interfaces.   It works in conjunction with\n",
      "the OpenConfig interfaces and aggregate interfaces models.\n",
      "Module: openconfig-platform-transceiver:2023-08-30 Description: This module defines configuration and operational state data\n",
      "for transceivers (i.e., pluggable optics).  The module should be\n",
      "used in conjunction with the platform model where other\n",
      "physical entity data are represented.\n",
      "\n",
      "In the platform model, a component of type=TRANSCEIVER is\n",
      "expected to be a subcomponent of a PORT component.  This\n",
      "module defines a concrete schema for the associated data for\n",
      "components with type=TRANSCEIVER.\n",
      "\n",
      "A transceiver will always contain physical-channel(s), however\n",
      "when a line side optical-channel is present (i.e. ZR+ optics)\n",
      "the physical-channel will reference its optical-channel.\n",
      "In this case, the optical-channels components must be\n",
      "subcomponents of the transceiver. The relationship between the\n",
      "physical-channel and the optical-channel allows for multiple\n",
      "optical-channels to be associated with a transceiver in addition\n",
      "to ensuring certain leaves (i.e. output-power) are not duplicated\n",
      "in multiple components.\n",
      "\n",
      "If a transceiver contains a digital signal processor (DSP), such\n",
      "as with ZR+ optics, the modeling will utilize hierarchical\n",
      "components as follows:\n",
      "PORT --> TRANSCEIVER --> OPTICAL_CHANNEL(s)\n",
      "The signal will then traverse through a series of\n",
      "terminal-device/logical-channels as required. The first\n",
      "logical-channel connected to the OPTICAL_CHANNEL will utilize the\n",
      "assignment/optical-channel leaf to create the relationship. At the\n",
      "conclusion of the series of logical-channels, the logical-channel\n",
      "will be associated to its host / client side based on:\n",
      "* If the TRANSCEIVER is directly within a router or switch, then\n",
      " it will use the logical-channel ingress leaf to specify the\n",
      " interface it is associated with.\n",
      "* If the TRANSCEIVER is within a dedicated terminal (Layer 1)\n",
      " device, then it will use the logical-channel ingress leaf to\n",
      " specify a physical-channel within a TRANSCEIVER component\n",
      " (i.e. gray optic) that it is associated with.\n",
      "Module: openconfig-if-ethernet:2023-03-10 Description: Model for managing Ethernet interfaces -- augments the OpenConfig\n",
      "model for interface configuration and state.\n",
      "Module: openconfig-if-sdn-ext:2024-02-21 Description: This module provides extensions to the OpenConfig interfaces\n",
      "module for network elements that support external 'SDN' control\n",
      "of their interfaces.\n",
      "Module: openconfig-platform-healthz:2023-04-11 Description: This model defines health-related variables for components\n",
      "within the openconfig-platform model (which defines the\n",
      "the /components hierarchy). It is designed to be used in\n",
      "conjunction with the gNOI Healthz service (see\n",
      "https://github.com/openconfig/gnoi/blob/main/healthz/README.md).\n",
      "\n",
      "The health variables included in this model are streamed via\n",
      "telemetry interfaces, where gNOI.Healthz is used to retrieve\n",
      "further diagnostic and debugging informaton from a network\n",
      "device.\n",
      "Module: openconfig-if-ip:2024-03-13 Description: This model defines data for managing configuration and\n",
      "operational state on IP (IPv4 and IPv6) interfaces.\n",
      "\n",
      "This model reuses data items defined in the IETF YANG model for\n",
      "interfaces described by RFC 7277 with an alternate structure\n",
      "(particularly for operational state data) and with\n",
      "additional configuration items.\n",
      "\n",
      "Portions of this code were derived from IETF RFC 7277.\n",
      "Please reproduce this note if possible.\n",
      "\n",
      "IETF code is subject to the following copyright and license:\n",
      "Copyright (c) IETF Trust and the persons identified as authors of\n",
      "the code.\n",
      "All rights reserved.\n",
      "\n",
      "Redistribution and use in source and binary forms, with or without\n",
      "modification, is permitted pursuant to, and subject to the license\n",
      "terms contained in, the Simplified BSD License set forth in\n",
      "Section 4.c of the IETF Trust's Legal Provisions Relating\n",
      "to IETF Documents (http://trustee.ietf.org/license-info).\n",
      "Module: openconfig-if-aggregate:2022-06-28 Description: Model for managing aggregated (aka bundle, LAG) interfaces.\n"
     ]
    }
   ],
   "source": [
    "q_res = g.query(prefixes + \"\"\"\n",
    "    SELECT  ?moduleName ?revisionDate ?moduleDescription\n",
    "    WHERE {\n",
    "        <http://example.org/NetworkDevice/srl/Datastore/operational> ndc-lb:supportsDatastoreSchema ?schema .\n",
    "        ?schema ndc-lb:usesModuleSet ?moduleSet .\n",
    "        ?moduleSet ndc-lb:moduleImplementation ?moduleImplementation .\n",
    "        ?moduleImplementation ndc-lb:implementedModule ?implementedModule .\n",
    "        ?implementedModule ndc-lb:moduleName ?moduleName ;\n",
    "                           ndc-lb:revisionDate ?revisionDate ;\n",
    "                           ndc-lb:moduleDescription ?moduleDescription .\n",
    "        FILTER(CONTAINS(STR(?moduleDescription), \"interface\"))\n",
    "    }\n",
    "\"\"\")\n",
    "\n",
    "for row in q_res:\n",
    "    print(f\"Module: {row.moduleName}:{row.revisionDate} Description: {row.moduleDescription}\")"
   ]
  },
  {
   "cell_type": "markdown",
   "id": "18c35b59",
   "metadata": {},
   "source": [
    "## Step 3 : Identifying dependencies for target YANG module"
   ]
  },
  {
   "cell_type": "code",
   "execution_count": null,
   "id": "4430c50b",
   "metadata": {},
   "outputs": [
    {
     "name": "stdout",
     "output_type": "stream",
     "text": [
      "Module: openconfig-srl-deviations:2024-10-31 \n"
     ]
    }
   ],
   "source": [
    "q_res = g.query(prefixes + \"\"\"\n",
    "    SELECT DISTINCT ?moduleName ?revisionDate ?dependencyType\n",
    "    WHERE {\n",
    "        <http://example.org/Module/openconfig-interfaces/2023-11-06>\n",
    "            ndc-lb:moduleDependency+ ?dependency ;\n",
    "            ?dependencyType ?dependency .\n",
    "        ?dependency ndc-lb:moduleName ?moduleName ;\n",
    "            ndc-lb:revisionDate ?revisionDate .\n",
    "        FILTER (?dependencyType != ndc-lb:moduleDependency)\n",
    "    }\n",
    "\"\"\")\n",
    "\n",
    "for row in q_res:\n",
    "    print(f\"Module: {row.moduleName}:{row.revisionDate} \")"
   ]
  },
  {
   "cell_type": "markdown",
   "id": "7a001e20",
   "metadata": {},
   "source": [
    "## Step 4: Collecting MDT protocol information."
   ]
  },
  {
   "cell_type": "code",
   "execution_count": null,
   "id": "847bfd2c",
   "metadata": {},
   "outputs": [
    {
     "name": "stdout",
     "output_type": "stream",
     "text": [
      "Protocol: https://w3id.org/network-data-catalog/server#GnmiServer Address: 172.100.100.11:57400 Username: admin Password: NokiaSrl1!\n",
      "Protocol: https://w3id.org/network-data-catalog/server#NetconfServer Address: 172.100.100.11:830 Username: admin Password: NokiaSrl1!\n"
     ]
    }
   ],
   "source": [
    "q_res = g.query(prefixes + \"\"\"\n",
    "    SELECT ?server ?type ?addressValue ?username ?password\n",
    "    WHERE {\n",
    "        ?server rdf:type/rdfs:subClassOf* ndc-sr:YangServer ;\n",
    "            rdf:type ?type ;\n",
    "            ndc-sr:socketAddress ?socketAddress ;\n",
    "            ndc-sr:serverAccount ?serverAccount .\n",
    "        ?socketAddress observable:addressValue ?addressValue .\n",
    "        ?serverAccount ndc-sr:username ?username ;\n",
    "            core:hasFacet ?accountAuthenticationFacet .\n",
    "        ?accountAuthenticationFacet observable:password ?password .\n",
    "    }\n",
    "\"\"\")\n",
    "\n",
    "for row in q_res:\n",
    "    print(f\"Protocol: {row.type} Address: {row.addressValue} Username: {row.username} Password: {row.password}\")"
   ]
  },
  {
   "cell_type": "markdown",
   "id": "3ea13f09",
   "metadata": {},
   "source": [
    "## Step 5: Collecting NETCONF capabilities"
   ]
  },
  {
   "cell_type": "code",
   "execution_count": null,
   "id": "ddd4adeb",
   "metadata": {},
   "outputs": [
    {
     "name": "stdout",
     "output_type": "stream",
     "text": [
      "Capability: https://w3id.org/network-data-catalog/server#ConfirmedCommitCapability\n",
      "Capability: https://w3id.org/network-data-catalog/server#RollbackOnErrorCapability\n",
      "Capability: https://w3id.org/network-data-catalog/server#CandidateCapability\n",
      "Capability: https://w3id.org/network-data-catalog/server#StartupCapability\n",
      "Capability: https://w3id.org/network-data-catalog/server#YangLibrary11Capability\n",
      "Capability: https://w3id.org/network-data-catalog/server#UrlCapability\n",
      "Capability: https://w3id.org/network-data-catalog/server#ValidateCapability\n"
     ]
    }
   ],
   "source": [
    "q_res = g.query(prefixes + \"\"\"\n",
    "    SELECT ?netconfCapability\n",
    "    WHERE {\n",
    "        <http://example.org/NetworkDevice/srl/NetconfServer> rdf:type ndc-sr:NetconfServer ;\n",
    "            ndc-sr:netconfCapability ?netconfCapability .\n",
    "    }\n",
    "\"\"\")\n",
    "\n",
    "for row in q_res:\n",
    "    print(f\"Capability: {row.netconfCapability}\")"
   ]
  }
 ],
 "metadata": {
  "kernelspec": {
   "display_name": ".venv",
   "language": "python",
   "name": "python3"
  },
  "language_info": {
   "codemirror_mode": {
    "name": "ipython",
    "version": 3
   },
   "file_extension": ".py",
   "mimetype": "text/x-python",
   "name": "python",
   "nbconvert_exporter": "python",
   "pygments_lexer": "ipython3",
   "version": "3.10.4"
  }
 },
 "nbformat": 4,
 "nbformat_minor": 5
}
